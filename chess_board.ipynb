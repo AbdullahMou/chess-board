{
 "cells": [
  {
   "cell_type": "code",
   "execution_count": 53,
   "metadata": {},
   "outputs": [
    {
     "data": {
      "text/plain": [
       "False"
      ]
     },
     "execution_count": 53,
     "metadata": {},
     "output_type": "execute_result"
    },
    {
     "data": {
      "image/png": "[encoded data removed]",
      "text/plain": [
       "<Figure size 432x288 with 1 Axes>"
      ]
     },
     "metadata": {
      "needs_background": "light"
     },
     "output_type": "display_data"
    }
   ],
   "source": [
    "import numpy as np\n",
    "import matplotlib.pyplot as plt\n",
    "\n",
    "class ChessBoard:\n",
    "    white = [1,1,1]\n",
    "    blue = [0,0,1]\n",
    "    red = [1,0,0]\n",
    "    def __init__(self):\n",
    "        self.grid = np.zeros([8,8,3])\n",
    "        for i in range(8):\n",
    "            for j in range(8):\n",
    "                if (i%2==0 and j%2==0) or (i%2==1 and j%2==1):\n",
    "                    self.grid[i,j] = ChessBoard.white\n",
    "    \n",
    "          \n",
    "    def render(self):\n",
    "        plt.imshow(self.grid)\n",
    "        \n",
    "    \n",
    "    def add_red(self,red_x,red_y):\n",
    "        self.grid[red_x,red_y] = ChessBoard.red\n",
    "        self.render()\n",
    "        \n",
    "    \n",
    "    def add_blue(self,blue_x,blue_y):\n",
    "        self.grid[blue_x,blue_y] = ChessBoard.blue\n",
    "        self.render()\n",
    "\n",
    "    \n",
    "   \n",
    "    def is_under_attack(self,red_x,red_y,blue_x,blue_y):\n",
    "        if red_x == blue_x: \n",
    "            return True\n",
    "        if red_y == blue_y:\n",
    "            return True\n",
    "        if abs(red_x - red_y) == abs(blue_x - blue_y):\n",
    "            return True\n",
    "        return False\n",
    "\n",
    "board = ChessBoard()\n",
    "board.render()\n",
    "board.add_red(4,1)\n",
    "board.add_blue(6,3)\n",
    "board.is_under_attack(5,2,6,1)"
   ]
  },
  {
   "cell_type": "code",
   "execution_count": 57,
   "metadata": {},
   "outputs": [
    {
     "name": "stdout",
     "output_type": "stream",
     "text": [
      "###...all goood...###\n"
     ]
    }
   ],
   "source": [
    "assert board.is_under_attack(4,1,6,3)==True \n",
    "assert board.is_under_attack(0,0,5,3)==False\n",
    "print('###...all goood...###')"
   ]
  },
  {
   "cell_type": "code",
   "execution_count": null,
   "metadata": {},
   "outputs": [],
   "source": []
  },
  {
   "cell_type": "code",
   "execution_count": null,
   "metadata": {},
   "outputs": [],
   "source": []
  }
 ],
 "metadata": {
  "kernelspec": {
   "display_name": "Python 3",
   "language": "python",
   "name": "python3"
  },
  "language_info": {
   "codemirror_mode": {
    "name": "ipython",
    "version": 3
   },
   "file_extension": ".py",
   "mimetype": "text/x-python",
   "name": "python",
   "nbconvert_exporter": "python",
   "pygments_lexer": "ipython3",
   "version": "3.9.0"
  }
 },
 "nbformat": 4,
 "nbformat_minor": 4
}
